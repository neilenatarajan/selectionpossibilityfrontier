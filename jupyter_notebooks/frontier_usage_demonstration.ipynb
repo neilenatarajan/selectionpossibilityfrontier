{
 "cells": [
  {
   "cell_type": "markdown",
   "metadata": {},
   "source": [
    "# Importing Frontier and dependencies"
   ]
  },
  {
   "cell_type": "code",
   "execution_count": 1,
   "metadata": {},
   "outputs": [
    {
     "name": "stderr",
     "output_type": "stream",
     "text": [
      "/Users/neilnatarajan/anaconda3/lib/python3.8/site-packages/pandas/core/computation/expressions.py:20: UserWarning: Pandas requires version '2.7.3' or newer of 'numexpr' (version '2.7.1' currently installed).\n",
      "  from pandas.core.computation.check import NUMEXPR_INSTALLED\n"
     ]
    }
   ],
   "source": [
    "import matplotlib.pyplot as plt\n",
    "import numpy as np\n",
    "import pandas as pd"
   ]
  },
  {
   "cell_type": "code",
   "execution_count": 2,
   "metadata": {},
   "outputs": [],
   "source": [
    "from selectionpossibilityfrontier.frontier import return_frontier, plot_frontier, make_proportional_targets"
   ]
  },
  {
   "cell_type": "markdown",
   "metadata": {},
   "source": [
    "# Testing Frontier\n",
    "\n",
    "First, we generate some dummy data."
   ]
  },
  {
   "cell_type": "code",
   "execution_count": 3,
   "metadata": {},
   "outputs": [],
   "source": [
    "# Create some Dummy data to use in our testing\n",
    "total_size = 2000\n",
    "select_size = 500\n",
    "proportion_female = 0.5\n",
    "proportion_white = 0.8\n",
    "proportion_low_ses = 0.4"
   ]
  },
  {
   "cell_type": "code",
   "execution_count": 4,
   "metadata": {},
   "outputs": [],
   "source": [
    "female = (np.random.rand(total_size) < proportion_female).astype(int)\n",
    "male = 1 - female\n",
    "\n",
    "white = (np.random.rand(total_size) < proportion_white).astype(int)\n",
    "bipoc = 1 - white\n",
    "\n",
    "low_ses = (np.random.rand(total_size) < proportion_low_ses).astype(int)\n",
    "\n",
    "score = np.random.rand(total_size)"
   ]
  },
  {
   "cell_type": "code",
   "execution_count": 5,
   "metadata": {},
   "outputs": [],
   "source": [
    "user_level = pd.DataFrame([male, female, white, bipoc, low_ses, score]).transpose()\n",
    "user_level.columns = ['Male', 'Female', 'White', 'BIPOC', 'Low_SES', 'Score']"
   ]
  },
  {
   "cell_type": "code",
   "execution_count": 6,
   "metadata": {},
   "outputs": [],
   "source": [
    "categories = user_level.drop('Score', axis=1).values.astype(float)\n",
    "scores = user_level['Score'].values.astype(float)\n",
    "\n",
    "weights = np.ones(categories.shape[1])\n",
    "proportions = np.array([.5, .5, 0.0, .4, .8])"
   ]
  },
  {
   "cell_type": "markdown",
   "metadata": {},
   "source": [
    "Then, we use SPF functionality to plot a frontier"
   ]
  },
  {
   "cell_type": "code",
   "execution_count": 7,
   "metadata": {},
   "outputs": [],
   "source": [
    "divfunc, dfmax = make_proportional_targets(select_size, proportions, weights)"
   ]
  },
  {
   "cell_type": "code",
   "execution_count": 9,
   "metadata": {},
   "outputs": [],
   "source": [
    "ds, qs, cs = return_frontier(categories, scores, select_size, divfunc, dfmax, ext=True)"
   ]
  },
  {
   "cell_type": "code",
   "execution_count": 10,
   "metadata": {},
   "outputs": [
    {
     "data": {
      "image/png": "[encoded data removed]",
      "text/plain": [
       "<Figure size 432x288 with 1 Axes>"
      ]
     },
     "metadata": {
      "needs_background": "light"
     },
     "output_type": "display_data"
    }
   ],
   "source": [
    "plot_frontier(ds, qs, qlabel='Overall Project Score', lims=False)"
   ]
  }
 ],
 "metadata": {
  "kernelspec": {
   "display_name": "Python 3",
   "language": "python",
   "name": "python3"
  },
  "language_info": {
   "codemirror_mode": {
    "name": "ipython",
    "version": 3
   },
   "file_extension": ".py",
   "mimetype": "text/x-python",
   "name": "python",
   "nbconvert_exporter": "python",
   "pygments_lexer": "ipython3",
   "version": "3.8.5"
  }
 },
 "nbformat": 4,
 "nbformat_minor": 4
}
