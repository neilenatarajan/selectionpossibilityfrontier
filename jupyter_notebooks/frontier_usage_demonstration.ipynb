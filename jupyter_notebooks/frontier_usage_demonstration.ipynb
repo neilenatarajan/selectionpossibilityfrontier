{
 "cells": [
  {
   "cell_type": "markdown",
   "metadata": {},
   "source": [
    "# Importing Frontier and dependencies"
   ]
  },
  {
   "cell_type": "code",
   "execution_count": 1,
   "metadata": {},
   "outputs": [],
   "source": [
    "import matplotlib.pyplot as plt\n",
    "import numpy as np\n",
    "import pandas as pd\n",
    "import math"
   ]
  },
  {
   "cell_type": "code",
   "execution_count": 2,
   "metadata": {},
   "outputs": [],
   "source": [
    "from selectionpossibilityfrontier import return_frontier, plot_frontier, make_proportional_targets, make_mean_targets"
   ]
  },
  {
   "cell_type": "markdown",
   "metadata": {},
   "source": [
    "# Testing Frontier\n",
    "\n",
    "First, we generate some dummy data."
   ]
  },
  {
   "cell_type": "code",
   "execution_count": 3,
   "metadata": {},
   "outputs": [],
   "source": [
    "# Create some Dummy data to use in our testing\n",
    "total_size = 2000\n",
    "select_size = 500\n",
    "proportion_female = 0.5\n",
    "proportion_white = 0.8\n",
    "proportion_low_ses = 0.4"
   ]
  },
  {
   "cell_type": "code",
   "execution_count": 4,
   "metadata": {},
   "outputs": [],
   "source": [
    "female = (np.random.rand(total_size) < proportion_female).astype(int)\n",
    "male = 1 - female\n",
    "\n",
    "white = (np.random.rand(total_size) < proportion_white).astype(int)\n",
    "bipoc = 1 - white\n",
    "\n",
    "low_ses = (np.random.rand(total_size) < proportion_low_ses).astype(int)\n",
    "\n",
    "score = np.random.rand(total_size)"
   ]
  },
  {
   "cell_type": "code",
   "execution_count": 5,
   "metadata": {},
   "outputs": [],
   "source": [
    "user_level = pd.DataFrame([male, female, white, bipoc, low_ses, score]).transpose()\n",
    "user_level.columns = ['Male', 'Female', 'White', 'BIPOC', 'Low_SES', 'Score']"
   ]
  },
  {
   "cell_type": "code",
   "execution_count": 6,
   "metadata": {},
   "outputs": [],
   "source": [
    "categories = user_level.drop('Score', axis=1).values.astype(float)\n",
    "scores = user_level['Score'].values.astype(float)\n",
    "\n",
    "# weights = np.ones(categories.shape[1])\n",
    "proportions = np.array([.5, .5, 0.0, .4, .8])"
   ]
  },
  {
   "cell_type": "markdown",
   "metadata": {},
   "source": [
    "Then, we use SPF functionality to plot a frontier"
   ]
  },
  {
   "cell_type": "code",
   "execution_count": 7,
   "metadata": {},
   "outputs": [],
   "source": [
    "df, dfmax = make_proportional_targets(select_size, proportions)\n",
    "pf, pfmax = make_mean_targets(select_size, 1)"
   ]
  },
  {
   "cell_type": "code",
   "execution_count": 8,
   "metadata": {},
   "outputs": [
    {
     "data": {
      "text/plain": [
       "array([0.36010906, 0.19982793, 0.02446535, ..., 0.82217485, 0.60871555,\n",
       "       0.26029195])"
      ]
     },
     "execution_count": 8,
     "metadata": {},
     "output_type": "execute_result"
    }
   ],
   "source": [
    "scores"
   ]
  },
  {
   "cell_type": "code",
   "execution_count": 9,
   "metadata": {},
   "outputs": [
    {
     "data": {
      "text/plain": [
       "0.9310220734061473"
      ]
     },
     "execution_count": 9,
     "metadata": {},
     "output_type": "execute_result"
    }
   ],
   "source": [
    "math.sqrt(sum(sorted(scores)[-500:])/500)"
   ]
  },
  {
   "cell_type": "code",
   "execution_count": 10,
   "metadata": {},
   "outputs": [
    {
     "name": "stdout",
     "output_type": "stream",
     "text": [
      "Beginning Frontier Plotting\n",
      "Completed step 1 of 20 | pratio: 0.00 | diversity score: 1.00 | performance score: 0.70\n",
      "Completed step 2 of 20 | pratio: 0.05 | diversity score: 1.00 | performance score: 0.86\n",
      "Completed step 3 of 20 | pratio: 0.11 | diversity score: 1.00 | performance score: 0.86\n",
      "Completed step 4 of 20 | pratio: 0.16 | diversity score: 1.00 | performance score: 0.86\n",
      "Completed step 5 of 20 | pratio: 0.21 | diversity score: 1.00 | performance score: 0.86\n",
      "Completed step 6 of 20 | pratio: 0.26 | diversity score: 1.00 | performance score: 0.86\n",
      "Completed step 7 of 20 | pratio: 0.32 | diversity score: 1.00 | performance score: 0.86\n",
      "Completed step 8 of 20 | pratio: 0.37 | diversity score: 1.00 | performance score: 0.86\n",
      "Completed step 9 of 20 | pratio: 0.42 | diversity score: 1.00 | performance score: 0.86\n",
      "Completed step 10 of 20 | pratio: 0.47 | diversity score: 0.99 | performance score: 0.87\n",
      "Completed step 11 of 20 | pratio: 0.53 | diversity score: 0.98 | performance score: 0.88\n",
      "Completed step 12 of 20 | pratio: 0.58 | diversity score: 0.97 | performance score: 0.89\n",
      "Completed step 13 of 20 | pratio: 0.63 | diversity score: 0.96 | performance score: 0.90\n",
      "Completed step 14 of 20 | pratio: 0.68 | diversity score: 0.94 | performance score: 0.91\n",
      "Completed step 15 of 20 | pratio: 0.74 | diversity score: 0.92 | performance score: 0.92\n",
      "Completed step 16 of 20 | pratio: 0.79 | diversity score: 0.91 | performance score: 0.92\n",
      "Completed step 17 of 20 | pratio: 0.84 | diversity score: 0.89 | performance score: 0.93\n",
      "Completed step 18 of 20 | pratio: 0.89 | diversity score: 0.87 | performance score: 0.93\n",
      "Completed step 19 of 20 | pratio: 0.95 | diversity score: 0.85 | performance score: 0.93\n",
      "Completed step 20 of 20 | pratio: 1.00 | diversity score: 0.82 | performance score: 0.93\n"
     ]
    }
   ],
   "source": [
    "ds, ps, cs = return_frontier(categories, scores, select_size, df, dfmax, pf, pfmax, ext=True, verbose=True)"
   ]
  },
  {
   "cell_type": "code",
   "execution_count": 11,
   "metadata": {},
   "outputs": [
    {
     "data": {
      "image/png": "[encoded data removed]",
      "text/plain": [
       "<Figure size 640x480 with 1 Axes>"
      ]
     },
     "metadata": {},
     "output_type": "display_data"
    }
   ],
   "source": [
    "plot_frontier(ds, ps, qlabel='Overall Project Score', lims=False)"
   ]
  },
  {
   "cell_type": "code",
   "execution_count": null,
   "metadata": {},
   "outputs": [],
   "source": []
  }
 ],
 "metadata": {
  "kernelspec": {
   "display_name": "base",
   "language": "python",
   "name": "python3"
  },
  "language_info": {
   "codemirror_mode": {
    "name": "ipython",
    "version": 3
   },
   "file_extension": ".py",
   "mimetype": "text/x-python",
   "name": "python",
   "nbconvert_exporter": "python",
   "pygments_lexer": "ipython3",
   "version": "3.11.6"
  },
  "vscode": {
   "interpreter": {
    "hash": "f69fdd7781dbaac5b79a12b3e1322c38a393ddf65ca3c8aaa7a3c8951791b0b2"
   }
  }
 },
 "nbformat": 4,
 "nbformat_minor": 4
}
